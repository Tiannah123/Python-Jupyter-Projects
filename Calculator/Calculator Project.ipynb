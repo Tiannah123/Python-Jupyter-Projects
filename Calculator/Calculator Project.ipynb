{
 "cells": [
  {
   "cell_type": "markdown",
   "id": "8dd9c2cb-6f66-496b-9bce-1f6bce2e9581",
   "metadata": {},
   "source": [
    "# CALCULATOR"
   ]
  },
  {
   "cell_type": "code",
   "execution_count": 5,
   "id": "9457b5da-d6ab-4590-8e10-e41b0244cfd7",
   "metadata": {},
   "outputs": [],
   "source": [
    "def add(x,y):\n",
    "    return x + y\n",
    "    \n",
    "def subtract(x,y):\n",
    "    return x - y\n",
    "    \n",
    "def multiply(x,y):\n",
    "    return x * y\n",
    "\n",
    "def divide(x,y):\n",
    "    return x / y"
   ]
  },
  {
   "cell_type": "code",
   "execution_count": 6,
   "id": "bcf8976d-c51d-4f90-8329-190b34029579",
   "metadata": {},
   "outputs": [
    {
     "name": "stdin",
     "output_type": "stream",
     "text": [
      "Enter Choice (Add, Subtract, Multiply, Divide):  add\n",
      "Enter the First Number:  21\n",
      "Enter the Second Number:  221\n"
     ]
    }
   ],
   "source": [
    "choice = input('Enter Choice (Add, Subtract, Multiply, Divide): ')\n",
    "\n",
    "num1 = float(input('Enter the First Number: '))\n",
    "\n",
    "num2 = float(input('Enter the Second Number: '))"
   ]
  },
  {
   "cell_type": "code",
   "execution_count": 15,
   "id": "311c9d77-2680-44ab-9df6-276b6c625772",
   "metadata": {},
   "outputs": [
    {
     "name": "stdout",
     "output_type": "stream",
     "text": [
      "Enter 'A' for Addition\n",
      "Enter 'S' for Subtraction\n",
      "Enter 'M' for Multiplication\n",
      "Enter 'D' for Division\n"
     ]
    },
    {
     "name": "stdin",
     "output_type": "stream",
     "text": [
      "Enter Choice (Add, Subtract, Multiply, Divide):  d\n",
      "Enter the First Number:  20\n",
      "Enter the Second Number:  25\n"
     ]
    },
    {
     "name": "stdout",
     "output_type": "stream",
     "text": [
      "Result:  20.0  +  25.0  =  0.8\n"
     ]
    }
   ],
   "source": [
    "print(\"Enter 'A' for Addition\")\n",
    "print(\"Enter 'S' for Subtraction\")\n",
    "print(\"Enter 'M' for Multiplication\")\n",
    "print(\"Enter 'D' for Division\")\n",
    "\n",
    "choice = input('Enter Choice (Add, Subtract, Multiply, Divide): ')\n",
    "\n",
    "if choice.upper() in ('A', 'ADD', 'ADDITION', 'S', 'SUB', 'SUBTRACTION', 'SUBTRACT', 'M', 'MULTIPLY', 'MULTIPLICATION', 'D', 'DIVIDE', 'DIVISION'):\n",
    "    num1 = float(input('Enter the First Number: '))\n",
    "    num2 = float(input('Enter the Second Number: '))\n",
    "\n",
    "    if choice.upper() in ('A', 'ADD', 'ADDITION'):\n",
    "        print('Result: ', num1, ' + ', num2, ' = ', add(num1,num2))\n",
    "    elif choice.upper() in ('S', 'SUB', 'SUBTRACTION', 'SUBTRACT'):\n",
    "        print('Result: ', num1, ' + ', num2, ' = ', subtract(num1,num2))\n",
    "    elif choice.upper() in ('M', 'MULTIPLY', 'MULTIPLICATION'):\n",
    "        print('Result: ', num1, ' + ', num2, ' = ', multiply(num1,num2))\n",
    "    elif choice.upper() in ('D', 'DIVIDE', 'DIVISION'):\n",
    "        print('Result: ', num1, ' + ', num2, ' = ', divide(num1,num2))\n",
    "\n",
    "else:\n",
    "    print('Invalid input, kindly enter the right choice of calculation.')"
   ]
  },
  {
   "cell_type": "code",
   "execution_count": 20,
   "id": "ecc20614-ab91-46d0-a580-d2d07e2c8af4",
   "metadata": {},
   "outputs": [
    {
     "name": "stdout",
     "output_type": "stream",
     "text": [
      "Enter 'A' for Addition\n",
      "Enter 'S' for Subtraction\n",
      "Enter 'M' for Multiplication\n",
      "Enter 'D' for Division\n"
     ]
    },
    {
     "name": "stdin",
     "output_type": "stream",
     "text": [
      "Enter Choice (Add, Subtract, Multiply, Divide):  30\n"
     ]
    },
    {
     "name": "stdout",
     "output_type": "stream",
     "text": [
      "Invalid input, kindly enter the right choice of calculation.\n"
     ]
    },
    {
     "name": "stdin",
     "output_type": "stream",
     "text": [
      "Want to do another calculation? (Yes/No):  yes\n",
      "Enter Choice (Add, Subtract, Multiply, Divide):  divide\n",
      "Enter the First Number:  20\n",
      "Enter the Second Number:  10\n"
     ]
    },
    {
     "name": "stdout",
     "output_type": "stream",
     "text": [
      "Result:  20.0  +  10.0  =  2.0\n"
     ]
    },
    {
     "name": "stdin",
     "output_type": "stream",
     "text": [
      "Want to do another calculation? (Yes/No):  yes\n",
      "Enter Choice (Add, Subtract, Multiply, Divide):  m\n",
      "Enter the First Number:  30\n",
      "Enter the Second Number:  100\n"
     ]
    },
    {
     "name": "stdout",
     "output_type": "stream",
     "text": [
      "Result:  30.0  +  100.0  =  3000.0\n"
     ]
    },
    {
     "name": "stdin",
     "output_type": "stream",
     "text": [
      "Want to do another calculation? (Yes/No):  no\n"
     ]
    }
   ],
   "source": [
    "print(\"Enter 'A' for Addition\")\n",
    "print(\"Enter 'S' for Subtraction\")\n",
    "print(\"Enter 'M' for Multiplication\")\n",
    "print(\"Enter 'D' for Division\")\n",
    "\n",
    "while True:\n",
    "    choice = input('Enter Choice (Add, Subtract, Multiply, Divide): ')\n",
    "    \n",
    "    if choice.upper() in ('A', 'ADD', 'ADDITION', 'S', 'SUB', 'SUBTRACTION', 'SUBTRACT', 'M', 'MULTIPLY', 'MULTIPLICATION', 'D', 'DIVIDE', 'DIVISION'):\n",
    "        num1 = float(input('Enter the First Number: '))\n",
    "        num2 = float(input('Enter the Second Number: '))\n",
    "    \n",
    "        if choice.upper() in ('A', 'ADD', 'ADDITION'):\n",
    "            print('Result: ', num1, ' + ', num2, ' = ', add(num1,num2))\n",
    "        elif choice.upper() in ('S', 'SUB', 'SUBTRACTION', 'SUBTRACT'):\n",
    "            print('Result: ', num1, ' + ', num2, ' = ', subtract(num1,num2))\n",
    "        elif choice.upper() in ('M', 'MULTIPLY', 'MULTIPLICATION'):\n",
    "            print('Result: ', num1, ' + ', num2, ' = ', multiply(num1,num2))\n",
    "        elif choice.upper() in ('D', 'DIVIDE', 'DIVISION'):\n",
    "            print('Result: ', num1, ' + ', num2, ' = ', divide(num1,num2))\n",
    "    else:\n",
    "        print('Invalid input, kindly enter the right choice of calculation.')\n",
    "\n",
    "    next_Calculation = input(\"Want to do another calculation? (Yes/No): \")\n",
    "    if next_Calculation.lower() in (\"no, n, nope\"):\n",
    "        break"
   ]
  },
  {
   "cell_type": "code",
   "execution_count": null,
   "id": "072f9795-4a48-4cb2-8385-4659e954f14f",
   "metadata": {},
   "outputs": [],
   "source": []
  },
  {
   "cell_type": "code",
   "execution_count": null,
   "id": "4d650547-fff2-438c-b211-6a1b13aa81e9",
   "metadata": {},
   "outputs": [],
   "source": []
  },
  {
   "cell_type": "code",
   "execution_count": null,
   "id": "eb6bc245-b0c9-484d-a385-e0447741fe1e",
   "metadata": {},
   "outputs": [],
   "source": []
  },
  {
   "cell_type": "code",
   "execution_count": null,
   "id": "4a1a7e5b-496f-4fba-b138-6cefda110213",
   "metadata": {},
   "outputs": [],
   "source": []
  },
  {
   "cell_type": "code",
   "execution_count": null,
   "id": "7247e2fe-05e9-4770-af0d-fdb381dcce82",
   "metadata": {},
   "outputs": [],
   "source": []
  },
  {
   "cell_type": "code",
   "execution_count": null,
   "id": "3f6cc8b9-8c83-4941-83db-43a6d2cb60b2",
   "metadata": {},
   "outputs": [],
   "source": []
  },
  {
   "cell_type": "code",
   "execution_count": null,
   "id": "1257496c-966b-4037-bf88-92a5ec6696e5",
   "metadata": {},
   "outputs": [],
   "source": []
  },
  {
   "cell_type": "code",
   "execution_count": null,
   "id": "76cd61b2-bcdd-4a6a-8fe3-e662ded02c42",
   "metadata": {},
   "outputs": [],
   "source": []
  },
  {
   "cell_type": "code",
   "execution_count": null,
   "id": "136b7b50-0ebc-4d1f-a975-007dc05ced8e",
   "metadata": {},
   "outputs": [],
   "source": []
  },
  {
   "cell_type": "code",
   "execution_count": null,
   "id": "1bbc39cd-8397-4742-b19a-91504134f5c1",
   "metadata": {},
   "outputs": [],
   "source": []
  },
  {
   "cell_type": "code",
   "execution_count": null,
   "id": "5242ab4d-180a-42ce-abff-481a057b7bcd",
   "metadata": {},
   "outputs": [],
   "source": []
  },
  {
   "cell_type": "code",
   "execution_count": null,
   "id": "75d36797-9518-4ad6-9ffb-9da2f725ef6c",
   "metadata": {},
   "outputs": [],
   "source": []
  }
 ],
 "metadata": {
  "kernelspec": {
   "display_name": "Python 3 (ipykernel)",
   "language": "python",
   "name": "python3"
  },
  "language_info": {
   "codemirror_mode": {
    "name": "ipython",
    "version": 3
   },
   "file_extension": ".py",
   "mimetype": "text/x-python",
   "name": "python",
   "nbconvert_exporter": "python",
   "pygments_lexer": "ipython3",
   "version": "3.12.4"
  }
 },
 "nbformat": 4,
 "nbformat_minor": 5
}
