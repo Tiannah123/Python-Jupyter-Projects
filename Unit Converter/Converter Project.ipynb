{
 "cells": [
  {
   "cell_type": "markdown",
   "id": "e20e01c7-1d98-4ae9-860a-4d8f4b2b6947",
   "metadata": {},
   "source": [
    "## Measurement Converter"
   ]
  },
  {
   "cell_type": "code",
   "execution_count": 1,
   "id": "a884b06b-a7c2-45bc-95a4-85f0ab6fc37a",
   "metadata": {},
   "outputs": [
    {
     "name": "stdin",
     "output_type": "stream",
     "text": [
      "Enter Startig Unit of Measurement(Inches, Feet, Yards):  yds\n",
      "Enter Unit of Measurement to Convert to (Inches, Feet, Yards):  inch\n",
      "Enter Starting Measurement in Inches:  70\n",
      "Enter Starting Measurement in Feet:  80\n",
      "Enter Starting Measurement in Yards:  90\n"
     ]
    }
   ],
   "source": [
    "convert_From = input(\"Enter Startig Unit of Measurement(Inches, Feet, Yards): \")\n",
    "\n",
    "convert_To = input(\"Enter Unit of Measurement to Convert to (Inches, Feet, Yards): \")\n",
    "\n",
    "number_of_Inches = input(\"Enter Starting Measurement in Inches: \")\n",
    "\n",
    "number_of_feet = input(\"Enter Starting Measurement in Feet: \")\n",
    "\n",
    "number_of_yards = input(\"Enter Starting Measurement in Yards: \")"
   ]
  },
  {
   "cell_type": "code",
   "execution_count": 8,
   "id": "c678cb17-95a2-4733-8fb1-28efe2c3d92c",
   "metadata": {},
   "outputs": [
    {
     "name": "stdin",
     "output_type": "stream",
     "text": [
      "Enter Startig Unit of Measurement(Inches, Feet, Yards):  inch\n",
      "Enter Unit of Measurement to Convert to (Inches, Feet, Yards):  yd\n",
      "Enter Starting Measurement in Inches:  100\n"
     ]
    },
    {
     "name": "stdout",
     "output_type": "stream",
     "text": [
      "Result: 100 Inches = 2.78 Yard(s)\n"
     ]
    }
   ],
   "source": [
    "convert_From = input(\"Enter Startig Unit of Measurement(Inches, Feet, Yards): \")\n",
    "\n",
    "convert_To = input(\"Enter Unit of Measurement to Convert to (Inches, Feet, Yards): \")\n",
    "\n",
    "if convert_From in [\"Inches\", \"inches\", \"inch\", \"in\", \"INCHES\", \"Inch\", \"IN\"]:\n",
    "    number_of_Inches = int(input(\"Enter Starting Measurement in Inches: \"))\n",
    "    if convert_To in [\"Feet\", \"feet\", \"FEET\", \"foot\", \"Foot\", \"FT\", \"ft\", \"FOOT\"]:\n",
    "        print(\"Result: \" + str(number_of_Inches) + \" Inches = \" + str(round(number_of_Inches / 12, 2)) + \" Feet\")\n",
    "    elif convert_To in [\"Yards\", \"yards\", \"YARDS\", \"Yard\", \"YARD\", \"yard\", \"yds\", \"YDS\", \"yd\", \"YD\"]:\n",
    "        print(\"Result: \" + str(number_of_Inches) + \" Inches = \" + str(round(number_of_Inches / 36, 2)) + \" Yard(s)\")\n",
    "    else:\n",
    "        print(\"Invalid Input\")\n",
    "elif convert_From in [\"Feet\", \"feet\", \"FEET\", \"foot\", \"Foot\", \"FT\", \"ft\", \"FOOT\"]:\n",
    "    number_of_feet = int(input(\"Enter Starting Measurement in Feet: \"))\n",
    "    if convert_To in [\"Inches\", \"inches\", \"inch\", \"in\", \"INCHES\", \"Inch\", \"IN\"]:\n",
    "        print(\"Result: \" + str(number_of_feet) + \" Feet = \" + str(round(number_of_feet * 12)) + \" Inch(es)\")\n",
    "    elif convert_To in [\"Yards\", \"yards\", \"YARDS\", \"Yard\", \"YARD\", \"yard\", \"yds\", \"YDS\", \"yd\", \"YD\"]:\n",
    "        print(\"Result: \" + str(number_of_feet) + \" Feet = \" + str(round(number_of_feet / 3, 2)) + \" Yard(s)\")\n",
    "    else:\n",
    "        print(\"Invalid Input\")\n",
    "elif convert_From in [\"Yards\", \"yards\", \"YARDS\", \"Yard\", \"YARD\", \"yard\", \"yds\", \"YDS\", \"yd\", \"YD\"]:\n",
    "    number_of_yards = int(input(\"Enter Starting Measurement in Yards: \"))\n",
    "    if convert_To in [\"Inches\", \"inches\", \"inch\", \"in\", \"INCHES\", \"Inch\", \"IN\"]:\n",
    "        print(\"Result: \" + str(number_of_yards) + \" Yards = \" + str(round(number_of_yards * 36)) + \" Inch(es)\")\n",
    "    elif convert_To in [\"Feet\", \"feet\", \"FEET\", \"foot\", \"Foot\", \"FT\", \"ft\", \"FOOT\"]:\n",
    "        print(\"Result: \" + str(number_of_yards) + \" Yards = \" + str(round(number_of_yards * 3)) + \" Feet\")\n",
    "    else:\n",
    "        print(\"Invalid Input\")\n",
    "else:\n",
    "        print(\"Please enter either Inches, Feet or Yards\")"
   ]
  },
  {
   "cell_type": "code",
   "execution_count": null,
   "id": "7209a020-cd3a-4644-acaa-5733e566a98a",
   "metadata": {},
   "outputs": [],
   "source": []
  },
  {
   "cell_type": "code",
   "execution_count": null,
   "id": "de2133de-52eb-49d7-944c-0604739d5880",
   "metadata": {},
   "outputs": [],
   "source": []
  },
  {
   "cell_type": "code",
   "execution_count": null,
   "id": "4dddd094-95f6-4804-91c4-d6cf866f6598",
   "metadata": {},
   "outputs": [],
   "source": []
  }
 ],
 "metadata": {
  "kernelspec": {
   "display_name": "Python 3 (ipykernel)",
   "language": "python",
   "name": "python3"
  },
  "language_info": {
   "codemirror_mode": {
    "name": "ipython",
    "version": 3
   },
   "file_extension": ".py",
   "mimetype": "text/x-python",
   "name": "python",
   "nbconvert_exporter": "python",
   "pygments_lexer": "ipython3",
   "version": "3.12.4"
  }
 },
 "nbformat": 4,
 "nbformat_minor": 5
}
